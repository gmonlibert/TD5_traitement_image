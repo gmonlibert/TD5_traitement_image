{
 "cells": [
  {
   "cell_type": "markdown",
   "metadata": {},
   "source": [
    "# I) Un premier exemple pour comprendre le traitement d'images\n",
    "Dans cette première partie, on éxécute un programme qui permet de transformer une image en couleurs en une image rouge.\n",
    "## 1) Importation des librairies\n",
    "Tout d'abord, il faut importer deux librairies pour pouvoir travailler avec les images :\n",
    "* La librairie **pillow** qui permet d'ouvrir des fichiers images et de les traiter comme des tableaux de nombres\n",
    "* La librairie **matplotlib** qui permet d'afficher des images dans l'interpréteur python\n",
    "\n",
    "Exécutez le code suivant pour importer les librairies :"
   ]
  },
  {
   "cell_type": "code",
   "execution_count": null,
   "metadata": {},
   "outputs": [],
   "source": [
    "# -*- coding: utf-8 -*-\n",
    "\n",
    "import PIL.Image as pil\n",
    "import matplotlib.pyplot as plt"
   ]
  },
  {
   "cell_type": "markdown",
   "metadata": {},
   "source": [
    "## 2) Ouverture d'un fichier image\n",
    "Pour récupéerer une image et pouvoir travailler avec elle sous la forme d'un tableau de nombres, on utilise la fonction ``pil.open()`` de la librairie pillow qui permet d'ouvrir un fichier image et de le charger dans une variable img_in. Il faut préciser le nom de fichier à ouvrir avec le nom entre guillements (ici \"butterfly.jpg\").\n",
    "\n",
    "Exécutez le code suivant pour charger l'image :"
   ]
  },
  {
   "cell_type": "code",
   "execution_count": null,
   "metadata": {},
   "outputs": [],
   "source": [
    "img_in = pil.open(\"butterfly.jpg\")"
   ]
  },
  {
   "cell_type": "markdown",
   "metadata": {},
   "source": [
    "## 3) Affichage d'une image dans l'interpréteur\n",
    "* Pour afficher l'image, on utilise la fonction ``plt.imshow()`` de la librairie matplotlib.\n",
    "* On peut aussi afficher le titre avec la fonction ``plt.title()``.\n",
    "* Pour afficher l'image, on utilise la fonction ``plt.show()``\n",
    "\n",
    "Exécutez le code suivant pour afficher l'image avec un titre :"
   ]
  },
  {
   "cell_type": "code",
   "execution_count": null,
   "metadata": {},
   "outputs": [],
   "source": [
    "plt.imshow(img_in)\n",
    "plt.title(\"butterfly.jpg\")\n",
    "plt.show()"
   ]
  },
  {
   "cell_type": "markdown",
   "metadata": {},
   "source": [
    "## 4) Affichage des caractéristiques de l'image\n",
    "On peut récupérer et afficher la définition de l'image grâce à la fonction size(). On récupère ainsi la largeur L de l'image et la la hauteur H de l'image en pixels.\n",
    "\n",
    "Exécutez le code suivant pour afficher la définition de l'image :"
   ]
  },
  {
   "cell_type": "code",
   "execution_count": null,
   "metadata": {},
   "outputs": [],
   "source": [
    "L,H = img_in.size\n",
    "print(\"Definition de l'image : \")\n",
    "print(\"- Largeur = \", L, \"px\")\n",
    "print(\"- Hauteur = \", H, \"px\")"
   ]
  },
  {
   "cell_type": "markdown",
   "metadata": {},
   "source": [
    "## 5) Un premier programme pour faire un traitement numérique de l'image : Le filtrage rouge\n",
    "On se propose ici de traiter l'image précédente \"butterfly.jpg\" pour la transformer en une image rouge. C'est ce qu'on appelle un filtrage.\n",
    "\n",
    "Tout d'abord, on crée une nouvelle variable qui va contenir l'image transformée. Pour cela, on utilise la fontion ``pil.new()`` qui permet de créer une nouvelle image. On a nommé cette variable img_out car elle contient l'image de sortie (c'est à dire après transformation). L'image initiale ne sera pas modifiée et elle reste contenue dans la variable img_in (in signifie entrée et out signifie sortie).\n",
    "Il faut préciser lors de la création qu'on crée une image en couleurs mais aussi ses dimensions (largeur et hauteur en pixels), c'est pourquoi on érit ``img_out = pil.new(\"RGB\", [L,H])``\n",
    "\n",
    "Exécutez le code suivant pour créer une nouvelle image :"
   ]
  },
  {
   "cell_type": "code",
   "execution_count": null,
   "metadata": {},
   "outputs": [],
   "source": [
    "img_out = pil.new(\"RGB\", [L,H])"
   ]
  },
  {
   "attachments": {
    "image.png": {
     "image/png": "[encoded data removed]"
    }
   },
   "cell_type": "markdown",
   "metadata": {},
   "source": [
    "Pour parcourir l'image, on utilise une double boucle pour parcourir à la fois les lignes et à la fois les colonnes :\n",
    "* le parcours des colonnes se fait grâce à l'instruction : ``for i in range(L):``\n",
    "* le parcours des lignes se fait grâce à l'instruction : ``for j in range(H):``\n",
    "\n",
    "**i** est donc le **numéro de colonne** et **j** le **numéro de ligne** du pixel en cours de traitement. Sur l'image ci-dessous, le pixel en gris est situé à la colonne i = 2 et à la ligne j = 4.\n",
    "![image.png](attachment:image.png)\n",
    "Pour récupérer le pixel situé à la colonne i et à la colonne j, on utilise la fonction ``getpixel(i,j)``, ce qui nous permet de récupérer les valeurs rouge, vert et bleu du pixel (red, green, blue en anglais) dans trois variables r, g et b grâce à l'instruction ``r,g,b = img_in.getpixel((i,j))``. On a bien préciser ici ``img_in`` car on récupère les pixels de l'image initiale.\n",
    "\n",
    "\n",
    "Pour filtrer l'image en rouge, il faut garder la composante rouge du pixel et mettre les composantes verte et bleue à 0 et mettre ces valeurs dans l'image du sortie. C'est ce que l'on fait grâce à la fonction ``putpixel((i,j),(r,0,0))`` dans laquelle on préciser bien à quel ligne i et colonne j, on modifie le pixel et avec quelles valeurs pour les 3 pixels rouge, vert et bleu.\n",
    "\n",
    "Exécutez le code suivant pour réaliser le filtrage rouge de l'image :"
   ]
  },
  {
   "cell_type": "code",
   "execution_count": null,
   "metadata": {},
   "outputs": [],
   "source": [
    "for i in range(L):\n",
    "    for j in range(H):\n",
    "        r,g,b = img_in.getpixel((i,j))\n",
    "        img_out.putpixel((i,j), (r,0,0))"
   ]
  },
  {
   "cell_type": "markdown",
   "metadata": {},
   "source": [
    "Il ne reste plus qu'à afficher l'image modifiée img_out. on procède comme pour img_in.\n",
    "\n",
    "Exécutez le code suivant pour afficher l'image modifiée :"
   ]
  },
  {
   "cell_type": "code",
   "execution_count": null,
   "metadata": {},
   "outputs": [],
   "source": [
    "plt.imshow(img_out)\n",
    "plt.title(\"butterfly_rouge.jpg\")\n",
    "plt.show()"
   ]
  },
  {
   "cell_type": "markdown",
   "metadata": {},
   "source": [
    "## 6) Sauvegarde de l'image transformée\n",
    "Au même tire qu'on peut lire une image, on peut aussi l'enregistrer. Pour cela, on utilise la fonction ``save()`` à laquelle on doit préciser entre guillemets le nom du fichier dans lequel sera enegristrée l'image (ici \"butterfly_rouge.jpg\"). le fichier sera alors disponible dans le répertoire ou le dossier de travail.\n",
    "\n",
    "Exécutez ce code pour enregistrer l'image :"
   ]
  },
  {
   "cell_type": "code",
   "execution_count": null,
   "metadata": {},
   "outputs": [],
   "source": [
    "img_out.save(\"butterfly_rouge.jpg\")"
   ]
  },
  {
   "cell_type": "markdown",
   "metadata": {},
   "source": [
    "Pour finir, une fois que le travail sur l'image a été terminé, on peut fermer les images avec la fonction close().\n",
    "\n",
    "Exécutez le code suivant pour fermer les images :"
   ]
  },
  {
   "cell_type": "code",
   "execution_count": null,
   "metadata": {},
   "outputs": [],
   "source": [
    "img_out.close()\n",
    "img_in.close()"
   ]
  },
  {
   "cell_type": "markdown",
   "metadata": {},
   "source": [
    "## 7) Conclusion\n",
    "Au vu de ce qui précède, voici le code complet permettant de réaliser la totalité du filtrage rouge (dans ce code les # correspondent à des commentaires qui ne sont pas éxécutés ... ils sont juste là pour aider à la compréhension).\n",
    "\n",
    "Exécutez le code pour voir le résultat :"
   ]
  },
  {
   "cell_type": "code",
   "execution_count": null,
   "metadata": {},
   "outputs": [],
   "source": [
    "# -*- coding: utf-8 -*-\n",
    "import PIL.Image as pil\n",
    "import matplotlib.pyplot as plt\n",
    "\n",
    "# ouverture du fichier image avec la librairie pillow\n",
    "img_in = pil.open(\"butterfly.jpg\")\n",
    "\n",
    "# affichage de l'image initiale\n",
    "plt.imshow(img_in)\n",
    "plt.title(\"butterfly.jpg\")\n",
    "plt.show()\n",
    "\n",
    "# taille de l'image : L et H sont la largeur et la hauteur de l'image en pixels\n",
    "L,H = img_in.size\n",
    "print(\"definition de l'image : \", L, H)\n",
    "\n",
    "#  création d'une image modifiée\n",
    "img_out = pil.new(\"RGB\", [L,H])\n",
    "for i in range(L):\n",
    "    for j in range(H):\n",
    "        r,g,b = img_in.getpixel((i,j))\n",
    "        img_out.putpixel((i,j), (r,0,0))\n",
    "\n",
    "# affichage de l'image modifiée\n",
    "plt.imshow(img_out)\n",
    "plt.title(\"butterfly_rouge.jpg\")\n",
    "plt.show()\n",
    "\n",
    "# sauvegarde de l'image modifiée\n",
    "img_out.save(\"butterfly_rouge.jpg\")\n",
    "\n",
    "# fermeture du fichier créé\n",
    "img_out.close()\n",
    "img_in.close()"
   ]
  },
  {
   "cell_type": "markdown",
   "metadata": {},
   "source": [
    "# II) Application pour réaliser différents traitements\n",
    "Dans cette deuxième partie, on va modifier le programme précédent pour réaliser :\n",
    "* un filtrage en vert, puis en bleu\n",
    "* une conversion en niveau de gris, puis en noir et blanc\n",
    "* une conversion en négatif\n",
    "\n",
    "Pour tous les programmes suivants, il ne faut pas oublier de changer le titre des fichiers de sauvegarde. Par exemple, on a vu pour le filtrage rouge, que le fichier de sauvegarde était nommé butterfly_rouge.jpg. Il faut donc adapter ce nom aux différents traitements.\n",
    "## 1) Comment transformer l'image en vert et en bleu ?\n",
    "\n",
    "Modifier et exécuter le code suivant pour transformer l'image en vert (il ne faut pas oublier de modifier le titre de l'image sauvegardée) :"
   ]
  },
  {
   "cell_type": "code",
   "execution_count": null,
   "metadata": {},
   "outputs": [],
   "source": [
    "# -*- coding: utf-8 -*-\n",
    "import PIL.Image as pil\n",
    "import matplotlib.pyplot as plt\n",
    "\n",
    "# ouverture du fichier image avec la librairie pillow\n",
    "img_in = pil.open(\"butterfly.jpg\")\n",
    "\n",
    "# affichage de l'image initiale\n",
    "plt.imshow(img_in)\n",
    "plt.title(\"butterfly.jpg\")\n",
    "plt.show()\n",
    "\n",
    "# taille de l'image : L et H sont la largeur et la hauteur de l'image en pixels\n",
    "L,H = img_in.size\n",
    "print(\"definition de l'image : \", L, H)\n",
    "\n",
    "#  création d'une image modifiée\n",
    "img_out = pil.new(\"RGB\", [L,H])\n",
    "for i in range(L):\n",
    "    for j in range(H):\n",
    "        r,g,b = img_in.getpixel((i,j))\n",
    "        img_out.putpixel((i,j), (r,0,0))\n",
    "\n",
    "# affichage de l'image modifiée\n",
    "plt.imshow(img_out)\n",
    "plt.title(\"butterfly_rouge.jpg\")\n",
    "plt.show()\n",
    "\n",
    "# sauvegarde de l'image modifiée\n",
    "img_out.save(\"butterfly_rouge.jpg\")\n",
    "\n",
    "# fermeture du fichier créé\n",
    "img_out.close()\n",
    "img_in.close()"
   ]
  },
  {
   "cell_type": "markdown",
   "metadata": {},
   "source": [
    "Faire de même pour transformer l'image en bleu en modifiant le code ci-dessous :"
   ]
  },
  {
   "cell_type": "code",
   "execution_count": null,
   "metadata": {},
   "outputs": [],
   "source": [
    "# -*- coding: utf-8 -*-\n",
    "import PIL.Image as pil\n",
    "import matplotlib.pyplot as plt\n",
    "\n",
    "# ouverture du fichier image avec la librairie pillow\n",
    "img_in = pil.open(\"butterfly.jpg\")\n",
    "\n",
    "# affichage de l'image initiale\n",
    "plt.imshow(img_in)\n",
    "plt.title(\"butterfly.jpg\")\n",
    "plt.show()\n",
    "\n",
    "# taille de l'image : L et H sont la largeur et la hauteur de l'image en pixels\n",
    "L,H = img_in.size\n",
    "print(\"definition de l'image : \", L, H)\n",
    "\n",
    "#  création d'une image modifiée\n",
    "img_out = pil.new(\"RGB\", [L,H])\n",
    "for i in range(L):\n",
    "    for j in range(H):\n",
    "        r,g,b = img_in.getpixel((i,j))\n",
    "        img_out.putpixel((i,j), (r,0,0))\n",
    "\n",
    "# affichage de l'image modifiée\n",
    "plt.imshow(img_out)\n",
    "plt.title(\"butterfly_rouge.jpg\")\n",
    "plt.show()\n",
    "\n",
    "# sauvegarde de l'image modifiée\n",
    "img_out.save(\"butterfly_rouge.jpg\")\n",
    "\n",
    "# fermeture du fichier créé\n",
    "img_out.close()\n",
    "img_in.close()"
   ]
  },
  {
   "cell_type": "markdown",
   "metadata": {},
   "source": [
    "## 2) Comment transformer une image en niveaux de gris et en noir et blanc ?\n",
    "Pour pouvoir transformer une image en niveau de gris, il faut calculer la valeur moyenne des pixels rouge, vert et bleu et mettre les trois pixels à la valeur de cette moyenne. Le calcul est à faire pour chaque pixel.\n",
    "\n",
    "La valeur d'un pixel doit être entiere, on doit donc utiliser une division entière avec le symbole ``//``. Par exemple ``(2+3+4)//3 = 2`` et non pas ``2,333333...`` car c'est une division entière qui est effectuée.\n",
    "\n",
    "Modifier le code suivant pour transformer l'image en niveaux de gris :"
   ]
  },
  {
   "cell_type": "code",
   "execution_count": null,
   "metadata": {},
   "outputs": [],
   "source": [
    "# -*- coding: utf-8 -*-\n",
    "import PIL.Image as pil\n",
    "import matplotlib.pyplot as plt\n",
    "\n",
    "# ouverture du fichier image avec la librairie pillow\n",
    "img_in = pil.open(\"butterfly.jpg\")\n",
    "\n",
    "# affichage de l'image initiale\n",
    "plt.imshow(img_in)\n",
    "plt.title(\"butterfly.jpg\")\n",
    "plt.show()\n",
    "\n",
    "# taille de l'image : L et H sont la largeur et la hauteur de l'image en pixels\n",
    "L,H = img_in.size\n",
    "print(\"definition de l'image : \", L, H)\n",
    "\n",
    "#  création d'une image modifiée\n",
    "img_out = pil.new(\"RGB\", [L,H])\n",
    "for i in range(L):\n",
    "    for j in range(H):\n",
    "        r,g,b = img_in.getpixel((i,j))\n",
    "        img_out.putpixel((i,j), (r,0,0))\n",
    "\n",
    "# affichage de l'image modifiée\n",
    "plt.imshow(img_out)\n",
    "plt.title(\"butterfly_rouge.jpg\")\n",
    "plt.show()\n",
    "\n",
    "# sauvegarde de l'image modifiée\n",
    "img_out.save(\"butterfly_rouge.jpg\")\n",
    "\n",
    "# fermeture du fichier créé\n",
    "img_out.close()\n",
    "img_in.close()"
   ]
  },
  {
   "cell_type": "markdown",
   "metadata": {},
   "source": [
    "Une fois la moyenne des trois pixels calculés, on peut faire un seuillage pour transformer l'image en noir et blanc. On compare la valeur moyenne obtenue avec 127. Si la valeur obtenue est plus petite que 127, on met les 3 pixels rouge, vert et bleu à la valeur minimale 0. Si la valeur est plus grande que 127, on met les 3 pixels rouge, vert et bleu à la valeur maximale 255.\n",
    "\n",
    "Modifier le code précédent pour transformer l'image en noir et blanc."
   ]
  },
  {
   "cell_type": "code",
   "execution_count": null,
   "metadata": {},
   "outputs": [],
   "source": [
    "# -*- coding: utf-8 -*-\n",
    "import PIL.Image as pil\n",
    "import matplotlib.pyplot as plt\n",
    "\n",
    "# ouverture du fichier image avec la librairie pillow\n",
    "img_in = pil.open(\"butterfly.jpg\")\n",
    "\n",
    "# affichage de l'image initiale\n",
    "plt.imshow(img_in)\n",
    "plt.title(\"butterfly.jpg\")\n",
    "plt.show()\n",
    "\n",
    "# taille de l'image : L et H sont la largeur et la hauteur de l'image en pixels\n",
    "L,H = img_in.size\n",
    "print(\"definition de l'image : \", L, H)\n",
    "\n",
    "#  création d'une image modifiée\n",
    "img_out = pil.new(\"RGB\", [L,H])\n",
    "for i in range(L):\n",
    "    for j in range(H):\n",
    "        r,g,b = img_in.getpixel((i,j))\n",
    "        img_out.putpixel((i,j), (r,0,0))\n",
    "\n",
    "# affichage de l'image modifiée\n",
    "plt.imshow(img_out)\n",
    "plt.title(\"butterfly_rouge.jpg\")\n",
    "plt.show()\n",
    "\n",
    "# sauvegarde de l'image modifiée\n",
    "img_out.save(\"butterfly_rouge.jpg\")\n",
    "\n",
    "# fermeture du fichier créé\n",
    "img_out.close()\n",
    "img_in.close()"
   ]
  },
  {
   "cell_type": "markdown",
   "metadata": {},
   "source": [
    "## 3) Comment transformer l'image en négatif ?\n",
    "Pour transformer une image en son négatif, il faut soustraire à 255 la valeur de chaque sous-pixel rouge, vert et bleu et mettre le pixel correspondant à sa valeur :\n",
    "* La nouvelle valeur du pixel rouge sera donc 255 - rouge\n",
    "* La nouvelle valeur du pixel vert sera donc 255 - vert\n",
    "* La nouvelle valeur du pixel bleu sera 255 - bleu\n",
    "\n",
    "Modifier et exécuter le code suivant pour transformer l'image en son négatif."
   ]
  },
  {
   "cell_type": "code",
   "execution_count": null,
   "metadata": {},
   "outputs": [],
   "source": [
    "# -*- coding: utf-8 -*-\n",
    "import PIL.Image as pil\n",
    "import matplotlib.pyplot as plt\n",
    "\n",
    "# ouverture du fichier image avec la librairie pillow\n",
    "img_in = pil.open(\"butterfly.jpg\")\n",
    "\n",
    "# affichage de l'image initiale\n",
    "plt.imshow(img_in)\n",
    "plt.title(\"butterfly.jpg\")\n",
    "plt.show()\n",
    "\n",
    "# taille de l'image : L et H sont la largeur et la hauteur de l'image en pixels\n",
    "L,H = img_in.size\n",
    "print(\"definition de l'image : \", L, H)\n",
    "\n",
    "#  création d'une image modifiée\n",
    "img_out = pil.new(\"RGB\", [L,H])\n",
    "for i in range(L):\n",
    "    for j in range(H):\n",
    "        r,g,b = img_in.getpixel((i,j))\n",
    "        img_out.putpixel((i,j), (r,0,0))\n",
    "\n",
    "# affichage de l'image modifiée\n",
    "plt.imshow(img_out)\n",
    "plt.title(\"butterfly_rouge.jpg\")\n",
    "plt.show()\n",
    "\n",
    "# sauvegarde de l'image modifiée\n",
    "img_out.save(\"butterfly_rouge.jpg\")\n",
    "\n",
    "# fermeture du fichier créé\n",
    "img_out.close()\n",
    "img_in.close()"
   ]
  },
  {
   "cell_type": "code",
   "execution_count": null,
   "metadata": {},
   "outputs": [],
   "source": []
  }
 ],
 "metadata": {
  "kernelspec": {
   "display_name": "Python 3",
   "language": "python",
   "name": "python3"
  },
  "language_info": {
   "codemirror_mode": {
    "name": "ipython",
    "version": 3
   },
   "file_extension": ".py",
   "mimetype": "text/x-python",
   "name": "python",
   "nbconvert_exporter": "python",
   "pygments_lexer": "ipython3",
   "version": "3.7.7"
  }
 },
 "nbformat": 4,
 "nbformat_minor": 4
}
